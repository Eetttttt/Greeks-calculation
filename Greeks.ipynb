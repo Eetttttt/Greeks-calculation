{
 "cells": [
  {
   "cell_type": "code",
   "execution_count": 1,
   "metadata": {},
   "outputs": [],
   "source": [
    "import pandas as pd\n",
    "import numpy as np\n",
    "from scipy.stats import norm"
   ]
  },
  {
   "cell_type": "markdown",
   "metadata": {},
   "source": [
    "计算delta"
   ]
  },
  {
   "cell_type": "code",
   "execution_count": 2,
   "metadata": {},
   "outputs": [],
   "source": [
    "def calculate_delta(row):\n",
    "    S = row['S']\n",
    "    K = row['K']\n",
    "    sigma = row['sigma']\n",
    "    r = row['r']\n",
    "    T = row['T']\n",
    "    optype = row['optype']\n",
    "    positype = row['positype']\n",
    "    \n",
    "    d1 = (np.log(S/K) + (r+pow(sigma,2)/2)*T) / (sigma*np.sqrt(T))\n",
    "    \n",
    "    if optype=='C':\n",
    "        if positype=='买':\n",
    "            delta = norm.cdf(d1)\n",
    "        else:\n",
    "            delta = -norm.cdf(d1)\n",
    "    else:\n",
    "        if positype=='买':\n",
    "            delta = norm.cdf(d1)-1\n",
    "        else:\n",
    "            delta = 1-norm.cdf(d1)\n",
    "    \n",
    "    return delta"
   ]
  },
  {
   "cell_type": "markdown",
   "metadata": {},
   "source": [
    "计算gamma"
   ]
  },
  {
   "cell_type": "code",
   "execution_count": 3,
   "metadata": {},
   "outputs": [],
   "source": [
    "def calculate_gamma(row):\n",
    "    S = row['S']\n",
    "    K = row['K']\n",
    "    sigma = row['sigma']\n",
    "    r = row['r']\n",
    "    T = row['T']\n",
    "    positype = row['positype']\n",
    "    \n",
    "    d1 = (np.log(S/K) + (r+pow(sigma,2)/2)*T) / (sigma*np.sqrt(T))\n",
    "    if positype=='买':\n",
    "        gamma = np.exp(-pow(d1,2)/2) / (S * sigma * np.sqrt(2*np.pi*T))\n",
    "    else:\n",
    "        gamma = -np.exp(-pow(d1,2)/2) / (S * sigma * np.sqrt(2*np.pi*T))\n",
    "    return gamma"
   ]
  },
  {
   "cell_type": "markdown",
   "metadata": {},
   "source": [
    "计算theta"
   ]
  },
  {
   "cell_type": "code",
   "execution_count": 4,
   "metadata": {},
   "outputs": [],
   "source": [
    "def calculate_theta(row):\n",
    "    S = row['S']\n",
    "    K = row['K']\n",
    "    sigma = row['sigma']\n",
    "    r = row['r']\n",
    "    T = row['T']\n",
    "    optype = row['optype']\n",
    "    positype = row['positype']\n",
    "    \n",
    "    d1 = (np.log(S/K) + (r + pow(sigma,2)/2)*T) / (sigma*np.sqrt(T))\n",
    "    d2 = d1 - sigma*np.sqrt(T)\n",
    "    theta_call = -(S*sigma*np.exp(-pow(d1,2)/2)) / (2*np.sqrt(2*np.pi*T)) - r*K*np.exp(-r*T)*norm.cdf(d2)\n",
    "    \n",
    "    if optype == 'C':\n",
    "        if positype=='买':\n",
    "            theta = theta_call\n",
    "        else:\n",
    "            theta = -theta_call\n",
    "    else:\n",
    "        if positype=='买':\n",
    "            theta = theta_call + r*K*np.exp(-r*T)\n",
    "        else:\n",
    "            theta = -(theta_call + r*K*np.exp(-r*T))\n",
    "        \n",
    "    return theta"
   ]
  },
  {
   "cell_type": "markdown",
   "metadata": {},
   "source": [
    "构造数据集"
   ]
  },
  {
   "cell_type": "code",
   "execution_count": 5,
   "metadata": {},
   "outputs": [],
   "source": [
    "# 创建一个示例DataFrame\n",
    "data = {\n",
    "    'S': [100, 105, 98],\n",
    "    'K': [100, 100, 100],\n",
    "    'sigma': [0.2, 0.15, 0.25],\n",
    "    'r': [0.05, 0.05, 0.05],\n",
    "    'T': [1, 0.5, 0.75],\n",
    "    'optype': ['C', 'P', 'C'],\n",
    "    'positype': ['买', '卖', '卖']\n",
    "}\n",
    "\n",
    "df = pd.DataFrame(data)"
   ]
  },
  {
   "cell_type": "code",
   "execution_count": 6,
   "metadata": {},
   "outputs": [
    {
     "data": {
      "text/html": [
       "<div>\n",
       "<style scoped>\n",
       "    .dataframe tbody tr th:only-of-type {\n",
       "        vertical-align: middle;\n",
       "    }\n",
       "\n",
       "    .dataframe tbody tr th {\n",
       "        vertical-align: top;\n",
       "    }\n",
       "\n",
       "    .dataframe thead th {\n",
       "        text-align: right;\n",
       "    }\n",
       "</style>\n",
       "<table border=\"1\" class=\"dataframe\">\n",
       "  <thead>\n",
       "    <tr style=\"text-align: right;\">\n",
       "      <th></th>\n",
       "      <th>S</th>\n",
       "      <th>K</th>\n",
       "      <th>sigma</th>\n",
       "      <th>r</th>\n",
       "      <th>T</th>\n",
       "      <th>optype</th>\n",
       "      <th>positype</th>\n",
       "    </tr>\n",
       "  </thead>\n",
       "  <tbody>\n",
       "    <tr>\n",
       "      <th>0</th>\n",
       "      <td>100</td>\n",
       "      <td>100</td>\n",
       "      <td>0.20</td>\n",
       "      <td>0.05</td>\n",
       "      <td>1.00</td>\n",
       "      <td>C</td>\n",
       "      <td>买</td>\n",
       "    </tr>\n",
       "    <tr>\n",
       "      <th>1</th>\n",
       "      <td>105</td>\n",
       "      <td>100</td>\n",
       "      <td>0.15</td>\n",
       "      <td>0.05</td>\n",
       "      <td>0.50</td>\n",
       "      <td>P</td>\n",
       "      <td>卖</td>\n",
       "    </tr>\n",
       "    <tr>\n",
       "      <th>2</th>\n",
       "      <td>98</td>\n",
       "      <td>100</td>\n",
       "      <td>0.25</td>\n",
       "      <td>0.05</td>\n",
       "      <td>0.75</td>\n",
       "      <td>C</td>\n",
       "      <td>卖</td>\n",
       "    </tr>\n",
       "  </tbody>\n",
       "</table>\n",
       "</div>"
      ],
      "text/plain": [
       "     S    K  sigma     r     T optype positype\n",
       "0  100  100   0.20  0.05  1.00      C        买\n",
       "1  105  100   0.15  0.05  0.50      P        卖\n",
       "2   98  100   0.25  0.05  0.75      C        卖"
      ]
     },
     "execution_count": 6,
     "metadata": {},
     "output_type": "execute_result"
    }
   ],
   "source": [
    "df"
   ]
  },
  {
   "cell_type": "markdown",
   "metadata": {},
   "source": [
    "计算"
   ]
  },
  {
   "cell_type": "code",
   "execution_count": 7,
   "metadata": {},
   "outputs": [],
   "source": [
    "df['delta'] = df.apply(calculate_delta, axis=1)"
   ]
  },
  {
   "cell_type": "code",
   "execution_count": 8,
   "metadata": {},
   "outputs": [],
   "source": [
    "df['gamma'] = df.apply(calculate_gamma, axis=1)"
   ]
  },
  {
   "cell_type": "code",
   "execution_count": 9,
   "metadata": {},
   "outputs": [],
   "source": [
    "df['theta'] = df.apply(calculate_theta, axis=1)"
   ]
  },
  {
   "cell_type": "code",
   "execution_count": 10,
   "metadata": {},
   "outputs": [
    {
     "data": {
      "text/html": [
       "<div>\n",
       "<style scoped>\n",
       "    .dataframe tbody tr th:only-of-type {\n",
       "        vertical-align: middle;\n",
       "    }\n",
       "\n",
       "    .dataframe tbody tr th {\n",
       "        vertical-align: top;\n",
       "    }\n",
       "\n",
       "    .dataframe thead th {\n",
       "        text-align: right;\n",
       "    }\n",
       "</style>\n",
       "<table border=\"1\" class=\"dataframe\">\n",
       "  <thead>\n",
       "    <tr style=\"text-align: right;\">\n",
       "      <th></th>\n",
       "      <th>S</th>\n",
       "      <th>K</th>\n",
       "      <th>sigma</th>\n",
       "      <th>r</th>\n",
       "      <th>T</th>\n",
       "      <th>optype</th>\n",
       "      <th>positype</th>\n",
       "      <th>delta</th>\n",
       "      <th>gamma</th>\n",
       "      <th>theta</th>\n",
       "    </tr>\n",
       "  </thead>\n",
       "  <tbody>\n",
       "    <tr>\n",
       "      <th>0</th>\n",
       "      <td>100</td>\n",
       "      <td>100</td>\n",
       "      <td>0.20</td>\n",
       "      <td>0.05</td>\n",
       "      <td>1.00</td>\n",
       "      <td>C</td>\n",
       "      <td>买</td>\n",
       "      <td>0.636831</td>\n",
       "      <td>0.018762</td>\n",
       "      <td>-6.414028</td>\n",
       "    </tr>\n",
       "    <tr>\n",
       "      <th>1</th>\n",
       "      <td>105</td>\n",
       "      <td>100</td>\n",
       "      <td>0.15</td>\n",
       "      <td>0.05</td>\n",
       "      <td>0.50</td>\n",
       "      <td>P</td>\n",
       "      <td>卖</td>\n",
       "      <td>0.227009</td>\n",
       "      <td>-0.027065</td>\n",
       "      <td>2.087956</td>\n",
       "    </tr>\n",
       "    <tr>\n",
       "      <th>2</th>\n",
       "      <td>98</td>\n",
       "      <td>100</td>\n",
       "      <td>0.25</td>\n",
       "      <td>0.05</td>\n",
       "      <td>0.75</td>\n",
       "      <td>C</td>\n",
       "      <td>卖</td>\n",
       "      <td>-0.574619</td>\n",
       "      <td>-0.018473</td>\n",
       "      <td>7.897575</td>\n",
       "    </tr>\n",
       "  </tbody>\n",
       "</table>\n",
       "</div>"
      ],
      "text/plain": [
       "     S    K  sigma     r     T optype positype     delta     gamma     theta\n",
       "0  100  100   0.20  0.05  1.00      C        买  0.636831  0.018762 -6.414028\n",
       "1  105  100   0.15  0.05  0.50      P        卖  0.227009 -0.027065  2.087956\n",
       "2   98  100   0.25  0.05  0.75      C        卖 -0.574619 -0.018473  7.897575"
      ]
     },
     "execution_count": 10,
     "metadata": {},
     "output_type": "execute_result"
    }
   ],
   "source": [
    "df"
   ]
  }
 ],
 "metadata": {
  "kernelspec": {
   "display_name": "Backtrader",
   "language": "python",
   "name": "python3"
  },
  "language_info": {
   "codemirror_mode": {
    "name": "ipython",
    "version": 3
   },
   "file_extension": ".py",
   "mimetype": "text/x-python",
   "name": "python",
   "nbconvert_exporter": "python",
   "pygments_lexer": "ipython3",
   "version": "3.10.12"
  },
  "orig_nbformat": 4
 },
 "nbformat": 4,
 "nbformat_minor": 2
}
